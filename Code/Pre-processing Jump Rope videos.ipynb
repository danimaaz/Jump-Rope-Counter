{
 "cells": [
  {
   "cell_type": "code",
   "execution_count": 1,
   "metadata": {},
   "outputs": [],
   "source": [
    "from datetime import datetime,timedelta\n",
    "import time\n",
    "import os\n",
    "import requests\n",
    "import cv2 as cv\n",
    "import numpy as np"
   ]
  },
  {
   "cell_type": "code",
   "execution_count": 2,
   "metadata": {},
   "outputs": [],
   "source": [
    "#creating a function that automatically saves the file to the necessary directory\n",
    "def save_frame(frame, count, filler, frame_type = 'processed'):\n",
    "    if frame_type == 'Original':\n",
    "        savepath= r'C:\\\\Users\\\\Dani\\\\Downloads\\\\saving frames from jump rope video\\\\original'\n",
    "        file_name = '{} {}.png'.format(filler, count)\n",
    "        save_path = os.path.join(savepath,file_name)\n",
    "        cv.imwrite(save_path, frame)\n",
    "    else:\n",
    "        savepath= r'C:\\\\Users\\\\Dani\\\\Downloads\\\\saving frames from jump rope video\\\\preprocessed'\n",
    "        file_name = '{} {}.png'.format(filler, count)\n",
    "        save_path = os.path.join(savepath,file_name)\n",
    "        cv.imwrite(save_path, frame)\n",
    "        \n",
    "#creating a function that breaks down the videos frame by frame and uses the\n",
    "#save_frame function to save them to the necessary directories\n",
    "def dense_OF_farneback_preprocess_frames(video_path):\n",
    "    capture = cv.VideoCapture(video_path)\n",
    "    ret, old_frame = capture.read()\n",
    "    flow = np.zeros((old_frame.shape[0], old_frame.shape[1], 2), dtype=np.float32)\n",
    "    params4farne = {'pyr_scale':0.5,'levels':3, 'winsize':15,'iterations': 3, 'poly_n': 5,'poly_sigma':1.2,'flags':cv.OPTFLOW_USE_INITIAL_FLOW}\n",
    "    counter = 1\n",
    "    #in order to avoid duplicates files replacing each other\n",
    "    #I gave each file a 'letter' that would be placed before their file names\n",
    "    filler_digit = int(video_path[-5:-4]) - 1 \n",
    "    alphabet = ['a','b','c','d','e','f', 'g','h','i', 'j', 'k', 'l', 'm']\n",
    "    filler_digit = alphabet[filler_digit]\n",
    "    hsv = np.zeros_like(old_frame)\n",
    "    hsv[...,1] = 255\n",
    "    first_gray = cv.cvtColor(old_frame,cv.COLOR_BGR2GRAY)\n",
    "    while(1):\n",
    "        ret1,current_frame = capture.read()\n",
    "        if ret1:\n",
    "            second_gray = cv.cvtColor(current_frame,cv.COLOR_BGR2GRAY)\n",
    "            flow = cv.calcOpticalFlowFarneback(first_gray,second_gray,None,0.5, 3, 15, 3, 5, 1.2, 0)\n",
    "            mag,angle = cv.cartToPolar(flow[..., 0], flow[..., 1])\n",
    "            hsv[...,0] = angle * 180 / np.pi/2\n",
    "            hsv[...,2] = cv.normalize(mag,None,0,255,cv.NORM_MINMAX)\n",
    "            RGB = cv.cvtColor(hsv,cv.COLOR_HSV2BGR)\n",
    "            dims = (400,400)\n",
    "            #First, save the RGB frames to the corresponding directory\n",
    "            resized_frame_colored = cv.resize(RGB,dims,interpolation=cv.INTER_AREA)\n",
    "            save_frame(frame = resized_frame_colored, count = counter,filler = filler_digit, frame_type = 'processed')\n",
    "            #Next, save the 'original' (unprocessed) frames to the corresponding directory\n",
    "            resized_frame_original = cv.resize(current_frame,dims,interpolation=cv.INTER_AREA)\n",
    "            save_frame(frame = resized_frame_original, count = counter,filler = filler_digit, frame_type = 'Original')    \n",
    "            first_gray = second_gray\n",
    "            #making the program captures 50 frames per second\n",
    "            if cv.waitKey(20) & 0xFF == ord('x'):\n",
    "                break\n",
    "            counter += 1\n",
    "        else:\n",
    "            #printing the total number of frames the video had\n",
    "            print(counter)\n",
    "            break"
   ]
  },
  {
   "cell_type": "code",
   "execution_count": 3,
   "metadata": {},
   "outputs": [
    {
     "name": "stdout",
     "output_type": "stream",
     "text": [
      "931\n"
     ]
    }
   ],
   "source": [
    "#I just put an example of a video I would process for demonstration\n",
    "#purposes only\n",
    "base_string = 'youtube_jumpropevid_11.mp4'\n",
    "to_proc = r\"C:\\\\Users\\\\Dani\\\\Downloads\\\\\"\n",
    "to_proc2 = to_proc + base_string\n",
    "dense_OF_farneback_preprocess_frames(video_path=to_proc2)"
   ]
  }
 ],
 "metadata": {
  "kernelspec": {
   "display_name": "Python 3",
   "language": "python",
   "name": "python3"
  },
  "language_info": {
   "codemirror_mode": {
    "name": "ipython",
    "version": 3
   },
   "file_extension": ".py",
   "mimetype": "text/x-python",
   "name": "python",
   "nbconvert_exporter": "python",
   "pygments_lexer": "ipython3",
   "version": "3.8.8"
  }
 },
 "nbformat": 4,
 "nbformat_minor": 2
}
